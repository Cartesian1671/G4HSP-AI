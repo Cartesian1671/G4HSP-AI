{
  "nbformat": 4,
  "nbformat_minor": 0,
  "metadata": {
    "colab": {
      "provenance": [],
      "gpuType": "T4"
    },
    "kernelspec": {
      "name": "python3",
      "display_name": "Python 3"
    },
    "language_info": {
      "name": "python"
    },
    "accelerator": "GPU",
    "gpuClass": "standard"
  },
  "cells": [
    {
      "cell_type": "code",
      "source": [
        "# -*- coding: utf-8 -*-\n",
        "import os\n",
        "os.environ[\"LC_ALL\"] = \"en_US.utf8\"\n",
        "os.environ[\"LANG\"] = \"en_US.utf8\""
      ],
      "metadata": {
        "id": "ds4kfSZDC_rX"
      },
      "execution_count": null,
      "outputs": []
    },
    {
      "cell_type": "code",
      "source": [
        "# Install necessary packages\n",
        "!pip install pandas\n",
        "!pip install scikit-learn\n",
        "!pip install numpy"
      ],
      "metadata": {
        "id": "HJ89X-1J0_RI",
        "colab": {
          "base_uri": "https://localhost:8080/"
        },
        "outputId": "3a275e55-c865-49b9-bed1-18e3063f5a99"
      },
      "execution_count": null,
      "outputs": [
        {
          "output_type": "stream",
          "name": "stdout",
          "text": [
            "Looking in indexes: https://pypi.org/simple, https://us-python.pkg.dev/colab-wheels/public/simple/\n",
            "Requirement already satisfied: pandas in /usr/local/lib/python3.10/dist-packages (1.5.3)\n",
            "Requirement already satisfied: python-dateutil>=2.8.1 in /usr/local/lib/python3.10/dist-packages (from pandas) (2.8.2)\n",
            "Requirement already satisfied: pytz>=2020.1 in /usr/local/lib/python3.10/dist-packages (from pandas) (2022.7.1)\n",
            "Requirement already satisfied: numpy>=1.21.0 in /usr/local/lib/python3.10/dist-packages (from pandas) (1.22.4)\n",
            "Requirement already satisfied: six>=1.5 in /usr/local/lib/python3.10/dist-packages (from python-dateutil>=2.8.1->pandas) (1.16.0)\n",
            "Looking in indexes: https://pypi.org/simple, https://us-python.pkg.dev/colab-wheels/public/simple/\n",
            "Requirement already satisfied: scikit-learn in /usr/local/lib/python3.10/dist-packages (1.2.2)\n",
            "Requirement already satisfied: numpy>=1.17.3 in /usr/local/lib/python3.10/dist-packages (from scikit-learn) (1.22.4)\n",
            "Requirement already satisfied: scipy>=1.3.2 in /usr/local/lib/python3.10/dist-packages (from scikit-learn) (1.10.1)\n",
            "Requirement already satisfied: joblib>=1.1.1 in /usr/local/lib/python3.10/dist-packages (from scikit-learn) (1.2.0)\n",
            "Requirement already satisfied: threadpoolctl>=2.0.0 in /usr/local/lib/python3.10/dist-packages (from scikit-learn) (3.1.0)\n",
            "Looking in indexes: https://pypi.org/simple, https://us-python.pkg.dev/colab-wheels/public/simple/\n",
            "Requirement already satisfied: numpy in /usr/local/lib/python3.10/dist-packages (1.22.4)\n"
          ]
        }
      ]
    },
    {
      "cell_type": "markdown",
      "source": [
        "To implement an SVM model using the TF-IDF features, we can modify the script as follows:\n",
        "1. Label representative sentences(such as \"virology\", \"HSP_viral_interactions\", etc.)  in  'corpus'. \n",
        "\n",
        "2. Use LabelEncoder  to convert these textual labels into a numerical form that SVM can read.\n",
        "\n",
        "3. Run the SVM model: The model is then trained on this data.\n",
        "\n",
        "4. Measure its accuracy  on the test set.\n",
        "\n",
        "\n",
        "\n",
        "\n",
        "\n",
        "\n"
      ],
      "metadata": {
        "id": "w8sHhwuL2w9p"
      }
    },
    {
      "cell_type": "code",
      "source": [
        "import pandas as pd\n",
        "from sklearn.feature_extraction.text import TfidfVectorizer\n",
        "from sklearn import svm\n",
        "from sklearn.preprocessing import LabelEncoder\n",
        "from sklearn.model_selection import train_test_split\n",
        "\n",
        "# Load the CSV file from a URL\n",
        "url = \"https://raw.githubusercontent.com/Cartesian1671/G4HSP-AI/main/corpus/Labeled_Documents/Labeled%20Dataset%20_without_apostrophes.csv\"\n",
        "\n",
        "data = pd.read_csv(url)\n",
        "\n",
        "# The 'corpus' is the 'Sentence' column and the 'labels' is the 'Label' column\n",
        "corpus = data['Sentence'].tolist()\n",
        "labels = data['Label'].tolist()\n",
        "\n",
        "# This vectorizer will convert our documents into a matrix of TF-IDF features\n",
        "vectorizer = TfidfVectorizer()\n",
        "\n",
        "# Vectorize our documents\n",
        "tfidf_matrix = vectorizer.fit_transform(corpus)\n",
        "\n",
        "# Convert these textual labels into numeric data\n",
        "le = LabelEncoder()\n",
        "numeric_labels = le.fit_transform(labels)\n",
        "\n",
        "# Create an SVM model\n",
        "model = svm.SVC()\n",
        "\n",
        "# Split the data into training and test sets\n",
        "X_train, X_test, y_train, y_test = train_test_split(tfidf_matrix, numeric_labels, test_size=0.2, random_state=42)\n",
        "\n",
        "# Train the model on our data\n",
        "model.fit(X_train, y_train)\n",
        "\n",
        "# Make predictions on the test set and evaluate the model\n",
        "y_pred = model.predict(X_test)\n",
        "\n",
        "# Calculate the accuracy of the model\n",
        "accuracy = (y_pred == y_test).mean()\n",
        "print(f'Model accuracy: {accuracy}')\n"
      ],
      "metadata": {
        "colab": {
          "base_uri": "https://localhost:8080/"
        },
        "id": "P65kU8St2pXs",
        "outputId": "e2c7d024-6b21-44d2-ea19-2df7a96ced48"
      },
      "execution_count": null,
      "outputs": [
        {
          "output_type": "stream",
          "name": "stdout",
          "text": [
            "Model accuracy: 0.7419354838709677\n"
          ]
        }
      ]
    },
    {
      "cell_type": "code",
      "source": [],
      "metadata": {
        "id": "FeqD-E842pbE"
      },
      "execution_count": null,
      "outputs": []
    }
  ]
}